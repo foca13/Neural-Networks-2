{
 "cells": [
  {
   "cell_type": "markdown",
   "id": "ff0b62e2-c2a4-470c-9a5b-1027038f127d",
   "metadata": {},
   "source": [
    "<h4>Classifying epileptic EEG signals</h4>"
   ]
  },
  {
   "cell_type": "markdown",
   "id": "8e1c8475-ae80-4c78-ad91-065d81f6400a",
   "metadata": {},
   "source": [
    "Epilepsy is a medical condition that affects around 50 million people globally according to the World Health Organization as of February 2024 (https://www.who.int/news-room/fact-sheets/detail/epilepsy). Here we will use There is evidence that suggests that the brain signal becomes alterated sometime before the seizure by the brain Here we will use a small sample of brain recordings to "
   ]
  },
  {
   "cell_type": "markdown",
   "id": "a29bd84b-2839-4648-a141-98620b555de0",
   "metadata": {},
   "source": [
    "Handa, Palak, Monika Mathur, and Nidhi Goel. \"Open and free EEG datasets for epilepsy diagnosis.\" arXiv preprint arXiv:2108.01030 (2021)."
   ]
  },
  {
   "cell_type": "code",
   "execution_count": 77,
   "id": "bc5b6b71-ba4c-4db6-b126-3ff949cc86cb",
   "metadata": {},
   "outputs": [
    {
     "name": "stdout",
     "output_type": "stream",
     "text": [
      "Datasets:\n",
      "These datasets are exemplary segmented EEG time series recordings of ten epilepsy patients collected from Neurology & Sleep Centre, Hauz Khas, New Delhi. The data was acquired at sampling rate of 200 Hz using Grass Telefactor Comet AS40 Amplification System. During the acquisition, gold plated scalp EEG electrodes were placed according to 10-20 electrode placement system. The signals were filtered between 0.5 to 70 Hz and then segmented into pre-ictal, interictal and ictal stages. Each downloadable folder contains fifty MAT-files of EEG time series signals. The name of the folder corresponds to the epileptic seizure stage. Each MAT-file consists of 1024 samples of one EEG time series data lasting for a duration of 5.12 seconds.     \n",
      "\n",
      "Note: The datasets are part of an ongoing research work in collaboration of Neurocomputing Laboratory at IIT Delhi and Neurology & Sleep Centre, Hauz Khas. Kindly cite this link and following manuscript(s) when you publish results based the EEG signals available in this page. The complete EEG datasets can be made available on request after the publication of the results.  \n",
      "\n",
      "1.\tP. Swami, T. Gandhi, B. K. Panigrahi, M. Tripathi, and S. Anand (2016). A novel robust diagnostic model to detect seizures in electroencephalography. Expert Systems with Applications, vol. 56, pp. 116-130. DOI: 10.1016/j.eswa.2016.02.040. \n",
      "2.\tP. Swami, T. Gandhi, B. K. Panigrahi, M. Bhatia, J. Santhosh, and S. Anand (2016). A comparative account of modelling seizure detection system using wavelet techniques. Systems Science: Operations & Logistics special edition on Modelling and Simulation in Healthcare Systems, pp. 1-12. DOI: 10.1080/23302674.2015.1116637. \n",
      "3.\tP. Swami, B. K. Panigrahi, S. Anand, M. Bhatia, M. Tripathi, and T. Gandhi (2016, September 3-4). Detection and cortical localization of ictal signatures using electroencephalogram signals. INCF Proceedings of World Congress on Neuroinformatics, Reading, UK. Indexed in Frontiers in Neuroinformatics. DOI: 10.3389/conf.fninf.2016.20.00013. \n",
      "4.\tP. Swami, T. Gandhi, B. K. Panigrahi, M. Bhatia, and S. Anand (2016, February 11-12). Locating ictal activities over human scalp with automated detection using EEG signals. IEEE Proceedings of International Conference on Signal Processing and Integrated Networks, Noida, India. DOI: 10.1109/SPIN.2016.7566767. \n",
      "5.\tP. Swami, T. Gandhi, B. K. Panigrahi, M. Bhatia, and S. Anand (2015, December 17-20). Detection of ictal patterns in electroencephalogram signals using 3D phase trajectories. IEEE Proceedings of Annual India International Conference, New Delhi, India, pp. 1-6. DOI: 10.1109/INDICON.2015.7443540.\n",
      "6.\tT. Gandhi, P. Chakraborty, G. G. Roy, and B. K. Panigrahi (2012). Discrete harmony search based expert model for epileptic seizure detection in electroencephalography. Expert Systems with Applications, 39, 4055-4062. DOI: 10.1016/j.eswa.2011.09.093.\n",
      "7.\tT. Gandhi, B. K. Panigrahi, and S. Anand (2011). A comparative study of wavelet families for EEG signal classification. Neurocomputing, 74, 3051-3057. DOI: 10.1016/j.neucom.2011.04.029.\n",
      "8.\tT. Gandhi, B. K. Panigrahi, M. Bhatia, and S. Anand (2010). Expert model for detection of epileptic activity in EEG signature. Expert Systems with Applications, 37, 3513-3520. 10.1016/j.eswa.2009.10.036.\n",
      "\n"
     ]
    }
   ],
   "source": [
    "import pathlib\n",
    "\n",
    "dataset_path = pathlib.Path('EEG-Epilepsy-Datasets')\n",
    "\n",
    "with open(dataset_path / 'Datasets Information.txt', 'r') as description:\n",
    "    text = description.read()\n",
    "print(text)"
   ]
  },
  {
   "cell_type": "code",
   "execution_count": 22,
   "id": "08f06ad5-9ecf-43e8-98dd-9bbd843f1bc0",
   "metadata": {},
   "outputs": [],
   "source": [
    "from collections import defaultdict\n",
    "\n",
    "import scipy.io\n",
    "import torch\n",
    "import torch.nn as nn\n",
    "from torch import Tensor\n",
    "from torch.utils.data import Dataset\n",
    "from torch.utils.data import DataLoader"
   ]
  },
  {
   "cell_type": "markdown",
   "id": "e6f72ea8-3cbc-4e4e-bb36-00b65ad23621",
   "metadata": {},
   "source": [
    "**Exercise 1** - Load the eeg data from the EEG-Epilepsy-Datasets folder. The data is organized in three subfolders: the first one contains EEG recordings from the ictal phase, the second one has EEG from the preictal phase and the last one has EEG from interictal (normal) brain state. Use the library pathlib to iterate over the files and load the EEGs"
   ]
  },
  {
   "cell_type": "code",
   "execution_count": 23,
   "id": "0fbbd287-0db5-4e70-a2a4-7fba746d0a0d",
   "metadata": {},
   "outputs": [],
   "source": [
    "dataset_path = pathlib.Path('EEG-Epilepsy-Datasets')\n",
    "eeg_signal_types = ['ictal', 'interictal', 'preictal']\n",
    "eeg = defaultdict(list)\n",
    "for eeg_type in eeg_signal_types:\n",
    "    eeg_type_path = dataset_path / eeg_type\n",
    "    for file in eeg_type_path.iterdir():\n",
    "        eeg[eeg_type].append(scipy.io.loadmat(file))"
   ]
  },
  {
   "cell_type": "markdown",
   "id": "4e5f40b7-72bb-4f8c-b099-942296d591b5",
   "metadata": {},
   "source": [
    "We now have a dictionary with three keys: 'ictal', 'interictal' and 'preictal'. Each of the keys has an associated list value with all the recordings for that particular EEG state. Let's see how many recordings of each type we have:"
   ]
  },
  {
   "cell_type": "code",
   "execution_count": 79,
   "id": "ce1f2251-8f30-4642-821a-d3a17e5eb8cd",
   "metadata": {},
   "outputs": [
    {
     "name": "stdout",
     "output_type": "stream",
     "text": [
      "50\n",
      "50\n",
      "50\n"
     ]
    }
   ],
   "source": [
    "print(len(eeg['ictal']))\n",
    "print(len(eeg['interictal']))\n",
    "print(len(eeg['preictal']))"
   ]
  },
  {
   "cell_type": "markdown",
   "id": "d264ce03-26ff-4f9d-b966-0469644c16a8",
   "metadata": {},
   "source": [
    "Each recording has 1024 EEG datapoints that result from 5.12 seconds of measurement at a sampling rate of 200Hz. In addition to the EEG data, each .mat file that we loaded has a description of the recording:"
   ]
  },
  {
   "cell_type": "code",
   "execution_count": 81,
   "id": "b236a06e-5a1c-4f6c-bd10-36f1807e0f37",
   "metadata": {},
   "outputs": [
    {
     "data": {
      "text/plain": [
       "{'__header__': b'MATLAB 5.0 MAT-file, Platform: PCWIN64, Created on: Sat Aug 06 14:02:24 2016',\n",
       " '__version__': '1.0',\n",
       " '__globals__': [],\n",
       " 'ictal': array([[-38],\n",
       "        [-26],\n",
       "        [ -9],\n",
       "        ...,\n",
       "        [131],\n",
       "        [136],\n",
       "        [134]], dtype=int16)}"
      ]
     },
     "execution_count": 81,
     "metadata": {},
     "output_type": "execute_result"
    }
   ],
   "source": [
    "eeg['ictal'][0]"
   ]
  },
  {
   "cell_type": "markdown",
   "id": "3289c0ba-490e-418a-b0a9-b2fae61186c1",
   "metadata": {},
   "source": [
    "**Exercise 2** From each The ictal state  The elements of the list should look as follows:"
   ]
  },
  {
   "cell_type": "markdown",
   "id": "c164bf15-216f-4745-b83f-f4d4315e6907",
   "metadata": {},
   "source": []
  },
  {
   "cell_type": "code",
   "execution_count": null,
   "id": "d0de688b-9f02-4590-aa89-23478d2e49a3",
   "metadata": {},
   "outputs": [],
   "source": [
    "class EEGDataset(Dataset):\n",
    "    def __init__(self, data: List[Tuple[Tensor, Tensor]]):\n",
    "        self.data = data\n",
    "\n",
    "    def __len__(self):\n",
    "        return len(self.data)\n",
    "\n",
    "    def __getitem__(self, idx):\n",
    "        return self.data[idx]"
   ]
  },
  {
   "cell_type": "markdown",
   "id": "9d589f28-7b5d-41b5-b0e4-ef3bfd26f4c5",
   "metadata": {},
   "source": [
    "**Exercise 3** - Create a class called `NeuralNetwork` that inherits from `nn.Module` which will represent our model. In the `forward` method, "
   ]
  },
  {
   "cell_type": "code",
   "execution_count": 21,
   "id": "046bbfb2-f69b-4784-b64c-c9186fff4a65",
   "metadata": {},
   "outputs": [
    {
     "data": {
      "text/plain": [
       "'EEG-Epilepsy-Datasets/ictal'"
      ]
     },
     "execution_count": 21,
     "metadata": {},
     "output_type": "execute_result"
    }
   ],
   "source": [
    "os.path.join('EEG-Epilepsy-Datasets', 'ictal')"
   ]
  },
  {
   "cell_type": "code",
   "execution_count": null,
   "id": "76248924-4fbf-4c4c-8be6-96b12429ee18",
   "metadata": {},
   "outputs": [],
   "source": [
    "class NeuralNetwork(nn.Module):\n",
    "    def __init__(self):\n",
    "        super().__init__(self)\n",
    "        # your code goes here\n",
    "\n",
    "    def forward(self):\n",
    "        # your code goes here\n",
    "        pass"
   ]
  },
  {
   "cell_type": "markdown",
   "id": "2c093faf-42e2-4b47-88ed-7a7f01dd180c",
   "metadata": {},
   "source": [
    "**Exercise 5** - Define the training loop. "
   ]
  },
  {
   "cell_type": "markdown",
   "id": "11367d37-7187-4b5e-bd73-c13f23b992ca",
   "metadata": {},
   "source": [
    "<h4>References</h4>\n",
    "[1] Handa, Palak, Monika Mathur, and Nidhi Goel. \"Open and free EEG datasets for epilepsy diagnosis.\" arXiv preprint arXiv:2108.01030 (2021).\n",
    "\n",
    "[2] Swami, Piyush, et al. \"EEG epilepsy datasets.\" DOI: https://doi.org/10.13140/RG 2.14280.32006 (2016)."
   ]
  }
 ],
 "metadata": {
  "kernelspec": {
   "display_name": "Python 3 (ipykernel)",
   "language": "python",
   "name": "python3"
  },
  "language_info": {
   "codemirror_mode": {
    "name": "ipython",
    "version": 3
   },
   "file_extension": ".py",
   "mimetype": "text/x-python",
   "name": "python",
   "nbconvert_exporter": "python",
   "pygments_lexer": "ipython3",
   "version": "3.8.10"
  }
 },
 "nbformat": 4,
 "nbformat_minor": 5
}
