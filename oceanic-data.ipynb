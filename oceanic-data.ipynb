{
 "cells": [
  {
   "cell_type": "markdown",
   "id": "181f62e1-4266-4f52-ae22-bd52d5acbd6f",
   "metadata": {},
   "source": [
    "<h4>Studying oceanographic data</h4>\n",
    "\n",
    "(Description taken from https://www.kaggle.com/datasets/sohier/calcofi)\n",
    "\n",
    "**Context**\n",
    "<br/>\n",
    "The CalCOFI data set represents the longest (1949-present) and most complete (more than 50,000 sampling stations) time series of oceanographic and larval fish data in the world. It includes abundance data on the larvae of over 250 species of fish; larval length frequency data and egg abundance data on key commercial species; and oceanographic and plankton data. The physical, chemical, and biological data collected at regular time and space intervals quickly became valuable for documenting climatic cycles in the California Current and a range of biological responses to them. CalCOFI research drew world attention to the biological response to the dramatic Pacific-warming event in 1957-58 and introduced the term “El Niño” into the scientific literature.\n",
    "\n",
    "The California Cooperative Oceanic Fisheries Investigations (CalCOFI) are a unique partnership of the California Department of Fish & Wildlife, NOAA Fisheries Service and Scripps Institution of Oceanography. The organization was formed in 1949 to study the ecological aspects of the sardine population collapse off California. Today our focus has shifted to the study of the marine environment off the coast of California, the management of its living resources, and monitoring the indicators of El Nino and climate change. CalCOFI conducts quarterly cruises off southern & central California, collecting a suite of hydrographic and biological data on station and underway. Data collected at depths down to 500 m include: temperature, salinity, oxygen, phosphate, silicate, nitrate and nitrite, chlorophyll, transmissometer, PAR, C14 primary productivity, phytoplankton biodiversity, zooplankton biomass, and zooplankton biodiversity.\n",
    "\n",
    "Descriptions about the columns in 'oceanic-data/bottle.csv' and 'oceanic-data/cast.csv' can be found here: https://calcofi.org/data/oceanographic-data/bottle-database/"
   ]
  },
  {
   "cell_type": "markdown",
   "id": "3436dbd7-b0af-4e99-90f1-b7374ad2f7d8",
   "metadata": {},
   "source": [
    "<h3>Exercise</h3>\n",
    "Load the 'bottle.csv' and 'cast.csv' data files in the 'oceanic-data/' folder with pandas. Select the columns that you consider relevant according to their description in the California Cooperative Oceanic Fisheries Investigations (CalCOFI) webpage and design and train a fully connected neural network model that predicts the temperature and the micrograms of Chlorophyll-a per liter of seawater given the characteristics that you chose. Remember to use transform the data to torch tensors, create the training and test sets with the Dataset wrapper class, define the dataloader, select the adequate loss function for your problem, train the model and record the training process (trian and test loss per epoch)."
   ]
  },
  {
   "cell_type": "code",
   "execution_count": 1,
   "id": "73d2b5ca-3c53-4e65-aa6e-35439ef9f49d",
   "metadata": {},
   "outputs": [],
   "source": [
    "import pandas as pd\n",
    "import torch\n",
    "import torch.nn as nn\n",
    "from torch import Tensor\n",
    "from torch.utils.data import Dataset\n",
    "from torch.utils.data import DataLoader"
   ]
  }
 ],
 "metadata": {
  "kernelspec": {
   "display_name": "Python 3 (ipykernel)",
   "language": "python",
   "name": "python3"
  },
  "language_info": {
   "codemirror_mode": {
    "name": "ipython",
    "version": 3
   },
   "file_extension": ".py",
   "mimetype": "text/x-python",
   "name": "python",
   "nbconvert_exporter": "python",
   "pygments_lexer": "ipython3",
   "version": "3.8.10"
  }
 },
 "nbformat": 4,
 "nbformat_minor": 5
}
